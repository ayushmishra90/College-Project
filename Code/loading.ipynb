{
 "cells": [
  {
   "cell_type": "code",
   "execution_count": null,
   "id": "f24a2d23",
   "metadata": {},
   "outputs": [],
   "source": [
    "from tensorflow.keras.models import load_model\n",
    "import joblib\n",
    "\n",
    "# Load model\n",
    "model = load_model(\"cnn_lstm_model.keras\")\n",
    "model = load_model(\"best_model.h5\")\n",
    "\n",
    "# Load scaler, encoders, and features\n",
    "scaler = joblib.load(\"scaler.pkl\")\n",
    "label_encoders = joblib.load(\"encoders.pkl\")\n",
    "feature_names = joblib.load(\"features.pkl\")\n",
    "\n",
    "\n"
   ]
  },
  {
   "cell_type": "code",
   "execution_count": null,
   "id": "b61b033a",
   "metadata": {},
   "outputs": [],
   "source": [
    "# Example: scaling input and predicting\n",
    "X_new_scaled = scaler.transform(X_new)  \n",
    "y_pred = model.predict(X_new_scaled)\n"
   ]
  }
 ],
 "metadata": {
  "kernelspec": {
   "display_name": "Python network",
   "language": "python",
   "name": "venv"
  },
  "language_info": {
   "name": "python",
   "version": "3.11.4"
  }
 },
 "nbformat": 4,
 "nbformat_minor": 5
}
